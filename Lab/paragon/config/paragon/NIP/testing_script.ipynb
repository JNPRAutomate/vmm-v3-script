{
 "cells": [
  {
   "cell_type": "code",
   "execution_count": 27,
   "id": "d38205b2-fe9d-4ff5-bf0e-f15752dfd544",
   "metadata": {},
   "outputs": [],
   "source": [
    "#!/usr/bin/env python3\n",
    "import json\n",
    "import pprint\n",
    "site_data_file = 'site_data.json'\n",
    "source_nip_file = 'brownfield_with_NIP_1/plan.lab1_brownfield.json'\n",
    "sernum_file = 'sernum.json'\n",
    "new_nip_file='plan.lab1.json'\n",
    "print(f\"reading site_data\")\n",
    "with open(site_data_file) as f1:\n",
    "    site_data=json.load(f1)\n",
    "print(f\"reading source_nip_file\")\n",
    "with open(source_nip_file) as f1:\n",
    "    nip = json.load(f1)\n",
    "print(f\"reading sernum_fie\")\n",
    "with open(sernum_file) as f1:\n",
    "    sernum = json.load(f1)\n",
    "\n",
    "nodes = nip['infrastructure_ntw']['network_nodes']['network_node']\n",
    "#pprint.pprint(nip)\n",
    "new_nodes = []\n",
    "for i in nodes:\n",
    "    node_name = i['name']\n",
    "    new_node = i\n",
    "    new_node['serial']=sernum[node_name]\n",
    "    new_node['site_id']=site_data[node_name]\n",
    "    new_nodes.append(new_node)\n",
    "nip['infrastructure_ntw']['network_nodes']['network_node'] = new_nodes\n",
    "#pprint.pprint(nip)\n",
    "print(f\"write new nip file {new_nip_file}\")\n",
    "with open(new_nip_file,\"w\") as f1:\n",
    "    json_objects = json.dumps(nip,indent=4)\n",
    "    f1.write(json_objects)\n",
    "    \n",
    "    \n",
    "    \n",
    "    "
   ]
  },
  {
   "cell_type": "code",
   "execution_count": null,
   "id": "7da7439d-d41d-4f6f-8079-84bb21602da1",
   "metadata": {},
   "outputs": [],
   "source": []
  }
 ],
 "metadata": {
  "kernelspec": {
   "display_name": "Python 3 (ipykernel)",
   "language": "python",
   "name": "python3"
  },
  "language_info": {
   "codemirror_mode": {
    "name": "ipython",
    "version": 3
   },
   "file_extension": ".py",
   "mimetype": "text/x-python",
   "name": "python",
   "nbconvert_exporter": "python",
   "pygments_lexer": "ipython3",
   "version": "3.12.10"
  }
 },
 "nbformat": 4,
 "nbformat_minor": 5
}
