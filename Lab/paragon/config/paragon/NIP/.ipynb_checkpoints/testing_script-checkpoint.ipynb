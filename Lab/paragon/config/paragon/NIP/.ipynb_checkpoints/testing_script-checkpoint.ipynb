{
 "cells": [
  {
   "cell_type": "code",
   "execution_count": 27,
   "id": "d38205b2-fe9d-4ff5-bf0e-f15752dfd544",
   "metadata": {},
   "outputs": [],
   "source": [
    "#!/usr/bin/env python3\n",
    "import json\n",
    "import pprint\n",
    "site_data_file = 'site_data.json'\n",
    "source_nip_file = 'brownfield_with_NIP_1/plan.lab1_brownfield.json'\n",
    "sernum_file = 'sernum.json'\n",
    "new_nip_file='plan.lab1.json'\n",
    "print(f\"reading site_data\")\n",
    "with open(site_data_file) as f1:\n",
    "    site_data=json.load(f1)\n",
    "print(f\"reading source_nip_file\")\n",
    "with open(source_nip_file) as f1:\n",
    "    nip = json.load(f1)\n",
    "print(f\"reading sernum_fie\")\n",
    "with open(sernum_file) as f1:\n",
    "    sernum = json.load(f1)\n",
    "\n",
    "nodes = nip['infrastructure_ntw']['network_nodes']['network_node']\n",
    "#pprint.pprint(nip)\n",
    "new_nodes = []\n",
    "for i in nodes:\n",
    "    node_name = i['name']\n",
    "    new_node = i\n",
    "    new_node['serial']=sernum[node_name]\n",
    "    new_node['site_id']=site_data[node_name]\n",
    "    new_nodes.append(new_node)\n",
    "nip['infrastructure_ntw']['network_nodes']['network_node'] = new_nodes\n",
    "#pprint.pprint(nip)\n",
    "print(f\"write new nip file {new_nip_file}\")\n",
    "with open(new_nip_file,\"w\") as f1:\n",
    "    json_objects = json.dumps(nip,indent=4)\n",
    "    f1.write(json_objects)\n",
    "    \n",
    "    \n",
    "    \n",
    "    "
   ]
  },
  {
   "cell_type": "code",
   "execution_count": 19,
   "id": "3a637302-bb37-4414-955d-62dc9402bbdc",
   "metadata": {},
   "outputs": [
    {
     "name": "stdout",
     "output_type": "stream",
     "text": [
      "dict_keys(['installation', 'interfaces', 'model', 'name', 'node_type', 'profiles', 'serial', 'site_id', 'vendor'])\n",
      "pe1\n",
      "VM6835DEF87C\n",
      "35948a2a-7b97-4cbd-8fd4-3fdc8bce40e6\n"
     ]
    }
   ],
   "source": [
    "print(nip['infrastructure_ntw']['network_nodes']['network_node'][0].keys())\n",
    "print(nip['infrastructure_ntw']['network_nodes']['network_node'][0]['name'])\n",
    "print(nip['infrastructure_ntw']['network_nodes']['network_node'][0]['serial'])\n",
    "print(nip['infrastructure_ntw']['network_nodes']['network_node'][0]['site_id'])"
   ]
  },
  {
   "cell_type": "code",
   "execution_count": 17,
   "id": "3d90e8ca-bdfe-45ab-bdf6-ead7550bc3e0",
   "metadata": {},
   "outputs": [
    {
     "name": "stdout",
     "output_type": "stream",
     "text": [
      "{'pe1': 'VM6835DEF87C', 'pe2': 'VM6835DEFBC4', 'pe3': 'VM6835DF09F9', 'pe4': 'VM6835DEFB9A', 'p1': 'VM6835DF0044', 'p2': 'VM6835DF067B', 'p3': 'VM6835DEFB39', 'p4': 'VM6835DF0CD1', 'p5': 'VM6835DF01B6'}\n"
     ]
    }
   ],
   "source": [
    "print(sernum)"
   ]
  },
  {
   "cell_type": "code",
   "execution_count": 21,
   "id": "97b68fe1-cd42-4567-ab55-9964103ae974",
   "metadata": {},
   "outputs": [
    {
     "name": "stdout",
     "output_type": "stream",
     "text": [
      "[]\n",
      "[1]\n",
      "[1, 5]\n"
     ]
    }
   ],
   "source": [
    "a=[]\n",
    "print(a)\n",
    "a.append(1)\n",
    "print(a)\n",
    "a.append(5)\n",
    "print(a)\n"
   ]
  },
  {
   "cell_type": "code",
   "execution_count": null,
   "id": "7da7439d-d41d-4f6f-8079-84bb21602da1",
   "metadata": {},
   "outputs": [],
   "source": []
  }
 ],
 "metadata": {
  "kernelspec": {
   "display_name": "Python 3 (ipykernel)",
   "language": "python",
   "name": "python3"
  },
  "language_info": {
   "codemirror_mode": {
    "name": "ipython",
    "version": 3
   },
   "file_extension": ".py",
   "mimetype": "text/x-python",
   "name": "python",
   "nbconvert_exporter": "python",
   "pygments_lexer": "ipython3",
   "version": "3.12.10"
  }
 },
 "nbformat": 4,
 "nbformat_minor": 5
}
